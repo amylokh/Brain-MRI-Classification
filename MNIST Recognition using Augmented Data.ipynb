{
 "cells": [
  {
   "cell_type": "code",
   "execution_count": 1,
   "metadata": {},
   "outputs": [],
   "source": [
    "import os\n",
    "import cv2\n",
    "import numpy as np\n",
    "import matplotlib.pyplot as plt\n",
    "import tensorflow as tf\n",
    "from keras.optimizers import Adam"
   ]
  },
  {
   "cell_type": "code",
   "execution_count": 2,
   "metadata": {},
   "outputs": [],
   "source": [
    "from PIL import Image\n",
    "import glob"
   ]
  },
  {
   "cell_type": "code",
   "execution_count": 3,
   "metadata": {},
   "outputs": [],
   "source": [
    "mnist = tf.keras.datasets.mnist\n",
    "(x_train, y_train), (x_test, y_test) = mnist.load_data()"
   ]
  },
  {
   "cell_type": "code",
   "execution_count": 4,
   "metadata": {},
   "outputs": [
    {
     "name": "stdout",
     "output_type": "stream",
     "text": [
      "(60000, 28, 28)\n",
      "(60000,)\n"
     ]
    }
   ],
   "source": [
    "print(x_train.shape)\n",
    "print(y_train.shape)"
   ]
  },
  {
   "cell_type": "code",
   "execution_count": 5,
   "metadata": {},
   "outputs": [],
   "source": [
    "x_train = tf.keras.utils.normalize(x_train, axis=1)\n",
    "x_test = tf.keras.utils.normalize(x_test, axis=1)"
   ]
  },
  {
   "cell_type": "markdown",
   "metadata": {},
   "source": [
    "### Creating Model"
   ]
  },
  {
   "cell_type": "code",
   "execution_count": 6,
   "metadata": {},
   "outputs": [],
   "source": [
    "model = tf.keras.models.Sequential()"
   ]
  },
  {
   "cell_type": "code",
   "execution_count": 7,
   "metadata": {},
   "outputs": [],
   "source": [
    "\n",
    "model.add(tf.keras.layers.Flatten(input_shape=(28,28)))\n",
    "model.add(tf.keras.layers.Dense(128, activation='relu'))\n",
    "model.add(tf.keras.layers.Dense(128, activation='relu'))\n",
    "model.add(tf.keras.layers.Dense(10, activation='softmax'))\n",
    "\n",
    "# model.compile(optimizer='adam', loss='sparse_categorical_crossentropy', metrics=['accuracy'])\n",
    "\n",
    "model.compile(Adam(learning_rate=0.001), loss='sparse_categorical_crossentropy', metrics=['accuracy'])\n",
    "\n",
    "# model.compile(optimizer='sgd', loss='mse', metrics=['accuracy'])"
   ]
  },
  {
   "cell_type": "code",
   "execution_count": 8,
   "metadata": {},
   "outputs": [
    {
     "name": "stdout",
     "output_type": "stream",
     "text": [
      "Model: \"sequential\"\n",
      "_________________________________________________________________\n",
      " Layer (type)                Output Shape              Param #   \n",
      "=================================================================\n",
      " flatten (Flatten)           (None, 784)               0         \n",
      "                                                                 \n",
      " dense (Dense)               (None, 128)               100480    \n",
      "                                                                 \n",
      " dense_1 (Dense)             (None, 128)               16512     \n",
      "                                                                 \n",
      " dense_2 (Dense)             (None, 10)                1290      \n",
      "                                                                 \n",
      "=================================================================\n",
      "Total params: 118,282\n",
      "Trainable params: 118,282\n",
      "Non-trainable params: 0\n",
      "_________________________________________________________________\n"
     ]
    }
   ],
   "source": [
    "model.summary()"
   ]
  },
  {
   "cell_type": "code",
   "execution_count": 9,
   "metadata": {},
   "outputs": [
    {
     "name": "stdout",
     "output_type": "stream",
     "text": [
      "Epoch 1/5\n",
      "1875/1875 [==============================] - 8s 4ms/step - loss: 0.2606 - accuracy: 0.9243\n",
      "Epoch 2/5\n",
      "1875/1875 [==============================] - 7s 4ms/step - loss: 0.1068 - accuracy: 0.9674\n",
      "Epoch 3/5\n",
      "1875/1875 [==============================] - 6s 3ms/step - loss: 0.0738 - accuracy: 0.9769\n",
      "Epoch 4/5\n",
      "1875/1875 [==============================] - 6s 3ms/step - loss: 0.0527 - accuracy: 0.9831\n",
      "Epoch 5/5\n",
      "1875/1875 [==============================] - 6s 3ms/step - loss: 0.0416 - accuracy: 0.9866\n"
     ]
    },
    {
     "data": {
      "text/plain": [
       "<keras.callbacks.History at 0x28453f92ef0>"
      ]
     },
     "execution_count": 9,
     "metadata": {},
     "output_type": "execute_result"
    }
   ],
   "source": [
    "model.fit(x_train, y_train, epochs=5)\n",
    "# model.save('handwritten digit recognition model')"
   ]
  },
  {
   "cell_type": "markdown",
   "metadata": {},
   "source": [
    "### Evaluation of the CNN Model trained on the original dataset"
   ]
  },
  {
   "cell_type": "code",
   "execution_count": 10,
   "metadata": {},
   "outputs": [
    {
     "name": "stdout",
     "output_type": "stream",
     "text": [
      "313/313 [==============================] - 1s 3ms/step - loss: 0.0885 - accuracy: 0.9732\n",
      "0.08846365660429001\n",
      "0.9732000231742859\n"
     ]
    }
   ],
   "source": [
    "model = tf.keras.models.load_model('handwritten digit recognition model')\n",
    "\n",
    "loss, accuracy = model.evaluate(x_test, y_test)\n",
    "\n",
    "print(loss)\n",
    "print(accuracy)"
   ]
  },
  {
   "attachments": {},
   "cell_type": "markdown",
   "metadata": {},
   "source": [
    "### Data Augmentation Beings"
   ]
  },
  {
   "cell_type": "code",
   "execution_count": 11,
   "metadata": {},
   "outputs": [],
   "source": [
    "# Load the dataset\n",
    "\n",
    "# Specify the path to the directory containing your dataset\n",
    "training_dataset_dir = \"F:/SCMHRD/Research Paper/MNIST Generated Dataset\"\n",
    "test_dataset_dir = \"F:/SCMHRD/Research Paper/MNIST Generated Dataset/test_mnist_png\"\n",
    "\n",
    "\n",
    "# Define the image dimensions\n",
    "image_width, image_height = 28, 28\n",
    "\n",
    "# Initialize empty lists to store the images and labels\n",
    "train_images = []\n",
    "train_labels = []\n",
    "test_images = []\n",
    "test_labels = []\n"
   ]
  },
  {
   "cell_type": "code",
   "execution_count": 15,
   "metadata": {},
   "outputs": [],
   "source": [
    "images = []\n",
    "labels = []\n",
    "\n",
    "# Loop through each subdirectory in the dataset directory\n",
    "for digit_dir in glob.glob(os.path.join(training_dataset_dir, \"*\")):\n",
    "    digit_label = int(os.path.basename(digit_dir))  # Extract the digit label from the directory name\n",
    "    \n",
    "    # Loop through each image file in the digit subdirectory\n",
    "    for image_path in glob.glob(os.path.join(digit_dir, \"*.png\")):  # Assumes the images are in PNG format\n",
    "        image = Image.open(image_path).convert('L')  # Convert to grayscale\n",
    "        # image = image.resize((image_width, image_height))  # Resize to desired dimensions\n",
    "        image_array = np.array(image)\n",
    "        \n",
    "        images.append(image_array)\n",
    "        labels.append(digit_label)\n",
    "\n",
    "# Convert the lists to NumPy arrays\n",
    "x_data = np.array(images)\n",
    "y_data = np.array(labels)\n",
    "\n",
    "# Randomly shuffle the data\n",
    "random_indices = np.random.permutation(len(x_data))\n",
    "x_data = x_data[random_indices]\n",
    "y_data = y_data[random_indices]"
   ]
  },
  {
   "cell_type": "code",
   "execution_count": 19,
   "metadata": {},
   "outputs": [
    {
     "name": "stdout",
     "output_type": "stream",
     "text": [
      "(18703, 28, 28)\n",
      "(18703,)\n"
     ]
    }
   ],
   "source": [
    "print(x_data.shape)\n",
    "print(y_data.shape)"
   ]
  },
  {
   "cell_type": "code",
   "execution_count": 18,
   "metadata": {},
   "outputs": [],
   "source": [
    "x_data = tf.keras.utils.normalize(x_data, axis=1)"
   ]
  },
  {
   "cell_type": "markdown",
   "metadata": {},
   "source": [
    "### Training model on the augmented data"
   ]
  },
  {
   "cell_type": "code",
   "execution_count": 26,
   "metadata": {},
   "outputs": [],
   "source": [
    "model2 = tf.keras.models.Sequential()"
   ]
  },
  {
   "cell_type": "code",
   "execution_count": 27,
   "metadata": {},
   "outputs": [],
   "source": [
    "model2.add(tf.keras.layers.Flatten(input_shape=(28,28)))\n",
    "model2.add(tf.keras.layers.Dense(128, activation='relu'))\n",
    "model2.add(tf.keras.layers.Dense(128, activation='relu'))\n",
    "model2.add(tf.keras.layers.Dense(10, activation='softmax'))\n",
    "\n",
    "# model.compile(optimizer='adam', loss='sparse_categorical_crossentropy', metrics=['accuracy'])\n",
    "\n",
    "model2.compile(Adam(learning_rate=0.001), loss='sparse_categorical_crossentropy', metrics=['accuracy'])\n",
    "\n",
    "# model.compile(optimizer='sgd', loss='mse', metrics=['accuracy'])"
   ]
  },
  {
   "cell_type": "code",
   "execution_count": 23,
   "metadata": {},
   "outputs": [],
   "source": [
    "x_train_augmented = np.concatenate((x_train, x_data))\n",
    "y_train_augmented = np.concatenate((y_train, y_data))"
   ]
  },
  {
   "cell_type": "code",
   "execution_count": 28,
   "metadata": {},
   "outputs": [
    {
     "name": "stdout",
     "output_type": "stream",
     "text": [
      "Epoch 1/5\n",
      "2460/2460 [==============================] - 9s 3ms/step - loss: 0.3010 - accuracy: 0.9016\n",
      "Epoch 2/5\n",
      "2460/2460 [==============================] - 9s 4ms/step - loss: 0.1412 - accuracy: 0.9470\n",
      "Epoch 3/5\n",
      "2460/2460 [==============================] - 9s 4ms/step - loss: 0.1086 - accuracy: 0.9550\n",
      "Epoch 4/5\n",
      "2460/2460 [==============================] - 9s 4ms/step - loss: 0.0876 - accuracy: 0.9622\n",
      "Epoch 5/5\n",
      "2460/2460 [==============================] - 9s 4ms/step - loss: 0.0759 - accuracy: 0.9645\n",
      "INFO:tensorflow:Assets written to: GAN trained handwritten digit recognition model\\assets\n"
     ]
    }
   ],
   "source": [
    "model2.fit(x_train_augmented, y_train_augmented, epochs=5)\n",
    "model2.save('GAN trained handwritten digit recognition model')"
   ]
  },
  {
   "cell_type": "code",
   "execution_count": 29,
   "metadata": {},
   "outputs": [
    {
     "name": "stdout",
     "output_type": "stream",
     "text": [
      "313/313 [==============================] - 1s 3ms/step - loss: 0.0857 - accuracy: 0.9751\n",
      "0.08566170185804367\n",
      "0.9750999808311462\n"
     ]
    }
   ],
   "source": [
    "model2 = tf.keras.models.load_model('GAN trained handwritten digit recognition model')\n",
    "\n",
    "loss, accuracy = model2.evaluate(x_test, y_test)\n",
    "\n",
    "print(loss)\n",
    "print(accuracy)"
   ]
  }
 ],
 "metadata": {
  "kernelspec": {
   "display_name": "Python 3 (ipykernel)",
   "language": "python",
   "name": "python3"
  },
  "language_info": {
   "codemirror_mode": {
    "name": "ipython",
    "version": 3
   },
   "file_extension": ".py",
   "mimetype": "text/x-python",
   "name": "python",
   "nbconvert_exporter": "python",
   "pygments_lexer": "ipython3",
   "version": "3.10.4"
  },
  "orig_nbformat": 4,
  "vscode": {
   "interpreter": {
    "hash": "c5d43b16d30f1e88cb202c85d58742f35204a4c45ac11185b24c2bc76ea718e3"
   }
  }
 },
 "nbformat": 4,
 "nbformat_minor": 2
}
